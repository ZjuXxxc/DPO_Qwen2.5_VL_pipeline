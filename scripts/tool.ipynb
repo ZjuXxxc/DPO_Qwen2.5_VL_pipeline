{
 "cells": [
  {
   "cell_type": "code",
   "execution_count": 35,
   "id": "70aab8f5",
   "metadata": {},
   "outputs": [],
   "source": [
    "# 筛选10条json作为实验pipeline测试\n",
    "path = '../outputs/regenerated_sentences.json'\n",
    "import json\n",
    "import random\n",
    "import os\n",
    "import shutil\n",
    "import re\n",
    "\n",
    "with open(path, 'r', encoding='utf-8') as f:\n",
    "    data = json.load(f)\n",
    "# 随机选择10条\n",
    "random.seed(42)\n",
    "random.shuffle(data)\n",
    "data = data[:10]\n",
    "# 生成json文件\n",
    "\n",
    "output_path = '../outputs/10_regenerated_sentences.json'\n",
    "with open(output_path, 'w', encoding='utf-8') as f:\n",
    "    json.dump(data, f, ensure_ascii=False, indent=4)"
   ]
  },
  {
   "cell_type": "code",
   "execution_count": 1,
   "id": "20dc9fbb",
   "metadata": {},
   "outputs": [
    {
     "data": {
      "application/vnd.jupyter.widget-view+json": {
       "model_id": "4e9b1ab941584f0aaac44eba198781a5",
       "version_major": 2,
       "version_minor": 0
      },
      "text/plain": [
       "Loading checkpoint shards:   0%|          | 0/2 [00:00<?, ?it/s]"
      ]
     },
     "metadata": {},
     "output_type": "display_data"
    }
   ],
   "source": [
    "import json\n",
    "import torch\n",
    "from transformers import AutoProcessor, Qwen2_5_VLForConditionalGeneration\n",
    "from qwen_vl_utils import process_vision_info\n",
    "import gc\n",
    "\n",
    "image_path = \"../images/train2017/000000407466.jpg\"\n",
    "\n",
    "local_model_path = \"../models/Qwen2.5-VL-3B/snapshots/1b989f2c63999d7344135894d3cfa8f494116743\"\n",
    "processor = AutoProcessor.from_pretrained(local_model_path)\n",
    "model = Qwen2_5_VLForConditionalGeneration.from_pretrained(\n",
    "    local_model_path,\n",
    "    torch_dtype=torch.bfloat16,\n",
    "    device_map=\"auto\",\n",
    ")\n",
    "\n",
    "\n",
    "prompt = f\"Describe the image in 100 words, including objects, attributes, and positional relationships.\"\n",
    "messages = [\n",
    "    {\n",
    "        \"role\": \"user\",\n",
    "        \"content\": [\n",
    "            {\"type\": \"image\", \"image\": image_path},\n",
    "            {\"type\": \"text\", \"text\": prompt},\n",
    "        ],\n",
    "    }\n",
    "]\n",
    "text = processor.apply_chat_template(messages, tokenize=False, add_generation_prompt=True)\n",
    "image_inputs, video_inputs = process_vision_info(messages)\n",
    "inputs = processor(text=[text], images=image_inputs, videos=video_inputs, padding=True, return_tensors=\"pt\").to(\"cuda\")\n",
    "\n",
    "# generated_ids = model.generate(**inputs, max_new_tokens=100,temperature=0.9)\n",
    "# output_text = processor.batch_decode(generated_ids, skip_special_tokens=True, clean_up_tokenization_spaces=False)[0].strip()\n",
    "# print(output_text)\n"
   ]
  },
  {
   "cell_type": "code",
   "execution_count": 2,
   "id": "95e9f58a",
   "metadata": {},
   "outputs": [
    {
     "name": "stdout",
     "output_type": "stream",
     "text": [
      "Qwen2_5_VLForConditionalGeneration(\n",
      "  (visual): Qwen2_5_VisionTransformerPretrainedModel(\n",
      "    (patch_embed): Qwen2_5_VisionPatchEmbed(\n",
      "      (proj): Conv3d(3, 1280, kernel_size=(2, 14, 14), stride=(2, 14, 14), bias=False)\n",
      "    )\n",
      "    (rotary_pos_emb): Qwen2_5_VisionRotaryEmbedding()\n",
      "    (blocks): ModuleList(\n",
      "      (0-31): 32 x Qwen2_5_VLVisionBlock(\n",
      "        (norm1): Qwen2RMSNorm((1280,), eps=1e-06)\n",
      "        (norm2): Qwen2RMSNorm((1280,), eps=1e-06)\n",
      "        (attn): Qwen2_5_VLVisionSdpaAttention(\n",
      "          (qkv): Linear(in_features=1280, out_features=3840, bias=True)\n",
      "          (proj): Linear(in_features=1280, out_features=1280, bias=True)\n",
      "        )\n",
      "        (mlp): Qwen2_5_VLMLP(\n",
      "          (gate_proj): Linear(in_features=1280, out_features=3420, bias=True)\n",
      "          (up_proj): Linear(in_features=1280, out_features=3420, bias=True)\n",
      "          (down_proj): Linear(in_features=3420, out_features=1280, bias=True)\n",
      "          (act_fn): SiLU()\n",
      "        )\n",
      "      )\n",
      "    )\n",
      "    (merger): Qwen2_5_VLPatchMerger(\n",
      "      (ln_q): Qwen2RMSNorm((1280,), eps=1e-06)\n",
      "      (mlp): Sequential(\n",
      "        (0): Linear(in_features=5120, out_features=5120, bias=True)\n",
      "        (1): GELU(approximate='none')\n",
      "        (2): Linear(in_features=5120, out_features=2048, bias=True)\n",
      "      )\n",
      "    )\n",
      "  )\n",
      "  (model): Qwen2_5_VLModel(\n",
      "    (embed_tokens): Embedding(151936, 2048)\n",
      "    (layers): ModuleList(\n",
      "      (0-35): 36 x Qwen2_5_VLDecoderLayer(\n",
      "        (self_attn): Qwen2_5_VLSdpaAttention(\n",
      "          (q_proj): Linear(in_features=2048, out_features=2048, bias=True)\n",
      "          (k_proj): Linear(in_features=2048, out_features=256, bias=True)\n",
      "          (v_proj): Linear(in_features=2048, out_features=256, bias=True)\n",
      "          (o_proj): Linear(in_features=2048, out_features=2048, bias=False)\n",
      "          (rotary_emb): Qwen2_5_VLRotaryEmbedding()\n",
      "        )\n",
      "        (mlp): Qwen2MLP(\n",
      "          (gate_proj): Linear(in_features=2048, out_features=11008, bias=False)\n",
      "          (up_proj): Linear(in_features=2048, out_features=11008, bias=False)\n",
      "          (down_proj): Linear(in_features=11008, out_features=2048, bias=False)\n",
      "          (act_fn): SiLU()\n",
      "        )\n",
      "        (input_layernorm): Qwen2RMSNorm((2048,), eps=1e-06)\n",
      "        (post_attention_layernorm): Qwen2RMSNorm((2048,), eps=1e-06)\n",
      "      )\n",
      "    )\n",
      "    (norm): Qwen2RMSNorm((2048,), eps=1e-06)\n",
      "    (rotary_emb): Qwen2_5_VLRotaryEmbedding()\n",
      "  )\n",
      "  (lm_head): Linear(in_features=2048, out_features=151936, bias=False)\n",
      ")\n"
     ]
    }
   ],
   "source": [
    "print(model)"
   ]
  },
  {
   "cell_type": "code",
   "execution_count": 29,
   "id": "18e8ad84",
   "metadata": {},
   "outputs": [
    {
     "name": "stdout",
     "output_type": "stream",
     "text": [
      "432\n",
      "221\n",
      "\n"
     ]
    }
   ],
   "source": [
    "prompt_length = inputs[\"input_ids\"].shape[1]\n",
    "print(prompt_length)\n",
    "generated_ids = model.generate(**inputs, max_new_tokens=50,temperature=1.0, do_sample=True,top_k=20,top_p=0.8)\n",
    "output_text = processor.batch_decode(generated_ids, skip_special_tokens=True, clean_up_tokenization_spaces=False)[0].strip()\n",
    "print(len(output_text))\n",
    "output_text = output_text[prompt_length:]\n",
    "print(output_text)"
   ]
  },
  {
   "cell_type": "code",
   "execution_count": 34,
   "id": "7e0567f8",
   "metadata": {},
   "outputs": [
    {
     "name": "stdout",
     "output_type": "stream",
     "text": [
      "There is a rich variety of lunch in the container.\n"
     ]
    }
   ],
   "source": [
    "# 获取 prompt 的 token 数量\n",
    "prompt_length = inputs[\"input_ids\"].shape[1]\n",
    "\n",
    "# 生成新内容\n",
    "generated_ids = model.generate(\n",
    "    **inputs,\n",
    "    max_new_tokens=50,\n",
    "    temperature=1.0,\n",
    "    do_sample=True,\n",
    "    top_k=20,\n",
    "    top_p=0.8\n",
    ")\n",
    "\n",
    "# 去掉 prompt 部分，只保留新生成的 token\n",
    "new_tokens = generated_ids[0][prompt_length:]\n",
    "\n",
    "# 解码生成部分的 token\n",
    "output_text = processor.decode(new_tokens, skip_special_tokens=True, clean_up_tokenization_spaces=False).strip()\n",
    "\n",
    "print(output_text)\n"
   ]
  },
  {
   "cell_type": "code",
   "execution_count": 1,
   "id": "0196a65c",
   "metadata": {},
   "outputs": [
    {
     "ename": "ModuleNotFoundError",
     "evalue": "No module named 'openai'",
     "output_type": "error",
     "traceback": [
      "\u001b[0;31m---------------------------------------------------------------------------\u001b[0m",
      "\u001b[0;31mModuleNotFoundError\u001b[0m                       Traceback (most recent call last)",
      "Cell \u001b[0;32mIn[1], line 1\u001b[0m\n\u001b[0;32m----> 1\u001b[0m \u001b[38;5;28;01mimport\u001b[39;00m \u001b[38;5;21;01mopenai\u001b[39;00m\n\u001b[1;32m      2\u001b[0m \u001b[38;5;28;01mimport\u001b[39;00m \u001b[38;5;21;01mbase64\u001b[39;00m\n\u001b[1;32m      3\u001b[0m \u001b[38;5;28;01mimport\u001b[39;00m \u001b[38;5;21;01mlogging\u001b[39;00m\n",
      "\u001b[0;31mModuleNotFoundError\u001b[0m: No module named 'openai'"
     ]
    }
   ],
   "source": [
    "import openai\n",
    "import base64\n",
    "import logging\n",
    "import requests\n",
    "import re\n",
    "\n",
    "def validate_sentence_gpt4o(image_path, sentence, api_key):\n",
    "    openai.api_key = api_key\n",
    "\n",
    "    # 编写 prompt\n",
    "    prompt = f\"\"\"Determine if the following description is accurate for the image: '{sentence}'.\n",
    "Return only a single integer (0-100) representing the confidence score, with no other text.\n",
    "Examples:\n",
    "- Description: 'A dog runs in a park.' Image shows a dog running. Output: 95\n",
    "- Description: 'The sky is red.' Image shows a blue sky. Output: 10\n",
    "- Description: 'A cat sleeps on a couch.' Image shows a cat sleeping. Output: 90\n",
    "Your output:\"\"\"\n",
    "\n",
    "    # 读取图片为 base64 格式\n",
    "    with open(image_path, \"rb\") as image_file:\n",
    "        base64_image = base64.b64encode(image_file.read()).decode(\"utf-8\")\n",
    "\n",
    "    # 调用 OpenAI GPT-4o\n",
    "    response = openai.ChatCompletion.create(\n",
    "        model=\"gpt-4o\",\n",
    "        messages=[\n",
    "            {\n",
    "                \"role\": \"user\",\n",
    "                \"content\": [\n",
    "                    {\"type\": \"image_url\", \"image_url\": {\"url\": f\"data:image/jpeg;base64,{base64_image}\"}},\n",
    "                    {\"type\": \"text\", \"text\": prompt}\n",
    "                ]\n",
    "            }\n",
    "        ],\n",
    "        max_tokens=5,\n",
    "        temperature=0.7\n",
    "    )\n",
    "\n",
    "    # 解析输出\n",
    "    output_text = response[\"choices\"][0][\"message\"][\"content\"].strip()\n",
    "    print(f\"GPT-4o 输出文本: {output_text}\")\n",
    "\n",
    "    # 提取评分数字\n",
    "    match = re.search(r'\\d+', output_text)\n",
    "    if match:\n",
    "        score = float(match.group())\n",
    "        score = max(0, min(100, score))\n",
    "    else:\n",
    "        score = 0\n",
    "        logging.warning(f\"无效输出: '{output_text}' for sentence: '{sentence}'\")\n",
    "\n",
    "    return score\n",
    "\n",
    "\n",
    "score = validate_sentence_gpt4o(\"your_image.jpg\", \"A cat sleeps on a couch.\", api_key=\"sk-xxx\")\n",
    "print(\"GPT-4o 给出的评分：\", score)\n"
   ]
  }
 ],
 "metadata": {
  "kernelspec": {
   "display_name": "base",
   "language": "python",
   "name": "python3"
  },
  "language_info": {
   "codemirror_mode": {
    "name": "ipython",
    "version": 3
   },
   "file_extension": ".py",
   "mimetype": "text/x-python",
   "name": "python",
   "nbconvert_exporter": "python",
   "pygments_lexer": "ipython3",
   "version": "3.12.3"
  }
 },
 "nbformat": 4,
 "nbformat_minor": 5
}
